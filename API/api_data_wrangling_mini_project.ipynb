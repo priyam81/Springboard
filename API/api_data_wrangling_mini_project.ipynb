{
 "cells": [
  {
   "cell_type": "markdown",
   "metadata": {},
   "source": [
    "This exercise will require you to pull some data from the Qunadl API. Qaundl is currently the most widely used aggregator of financial market data."
   ]
  },
  {
   "cell_type": "markdown",
   "metadata": {},
   "source": [
    "As a first step, you will need to register a free account on the http://www.quandl.com website."
   ]
  },
  {
   "cell_type": "markdown",
   "metadata": {},
   "source": [
    "After you register, you will be provided with a unique API key, that you should store:"
   ]
  },
  {
   "cell_type": "code",
   "execution_count": 2,
   "metadata": {},
   "outputs": [],
   "source": [
    "# Store the API key as a string - according to PEP8, constants are always named in all upper case\n",
    "API_KEY = 'PWZEkrviXsABxujhZB-n'"
   ]
  },
  {
   "cell_type": "markdown",
   "metadata": {},
   "source": [
    "Qaundl has a large number of data sources, but, unfortunately, most of them require a Premium subscription. Still, there are also a good number of free datasets."
   ]
  },
  {
   "cell_type": "markdown",
   "metadata": {},
   "source": [
    "For this mini project, we will focus on equities data from the Frankfurt Stock Exhange (FSE), which is available for free. We'll try and analyze the stock prices of a company called Carl Zeiss Meditec, which manufactures tools for eye examinations, as well as medical lasers for laser eye surgery: https://www.zeiss.com/meditec/int/home.html. The company is listed under the stock ticker AFX_X."
   ]
  },
  {
   "cell_type": "markdown",
   "metadata": {},
   "source": [
    "You can find the detailed Quandl API instructions here: https://docs.quandl.com/docs/time-series"
   ]
  },
  {
   "cell_type": "markdown",
   "metadata": {},
   "source": [
    "While there is a dedicated Python package for connecting to the Quandl API, we would prefer that you use the *requests* package, which can be easily downloaded using *pip* or *conda*. You can find the documentation for the package here: http://docs.python-requests.org/en/master/ "
   ]
  },
  {
   "cell_type": "markdown",
   "metadata": {},
   "source": [
    "Finally, apart from the *requests* package, you are encouraged to not use any third party Python packages, such as *pandas*, and instead focus on what's available in the Python Standard Library (the *collections* module might come in handy: https://pymotw.com/3/collections/ ).\n",
    "Also, since you won't have access to DataFrames, you are encouraged to us Python's native data structures - preferably dictionaries, though some questions can also be answered using lists.\n",
    "You can read more on these data structures here: https://docs.python.org/3/tutorial/datastructures.html"
   ]
  },
  {
   "cell_type": "markdown",
   "metadata": {},
   "source": [
    "Keep in mind that the JSON responses you will be getting from the API map almost one-to-one to Python's dictionaries. Unfortunately, they can be very nested, so make sure you read up on indexing dictionaries in the documentation provided above."
   ]
  },
  {
   "cell_type": "code",
   "execution_count": 3,
   "metadata": {},
   "outputs": [],
   "source": [
    "# First, import the relevant modules\n",
    "import requests\n",
    "import json"
   ]
  },
  {
   "cell_type": "code",
   "execution_count": 4,
   "metadata": {},
   "outputs": [
    {
     "name": "stdout",
     "output_type": "stream",
     "text": [
      "{\"dataset\":{\"id\":10095370,\"dataset_code\":\"AFX_X\",\"database_code\":\"FSE\",\"name\":\"Carl Zeiss Meditec (AFX_X)\",\"description\":\"Stock Prices for Carl Zeiss Meditec (2020-04-08) from the Frankfurt Stock Exchange.\\u003cbr\\u003e\\u003cbr\\u003eTrading System: Xetra\\u003cbr\\u003e\\u003cbr\\u003eISIN: DE0005313704\",\"refreshed_at\":\"2020-04-22T22:16:31.570Z\",\"newest_available_date\":\"2020-04-22\",\"oldest_available_date\":\"2000-06-07\",\"column_names\":[\"Date\",\"Open\",\"High\",\"Low\",\"Close\",\"Change\",\"Traded Volume\",\"Turnover\",\"Last Price of the Day\",\"Daily Traded Units\",\"Daily Turnover\"],\"frequency\":\"daily\",\"type\":\"Time Series\",\"premium\":false,\"limit\":null,\"transform\":null,\"column_index\":null,\"start_date\":\"2020-04-16\",\"end_date\":\"2020-04-16\",\"data\":[[\"2020-04-16\",91.9,92.75,90.7,91.45,null,162831.0,14907520.55,null,null,null]],\"collapse\":null,\"order\":null,\"database_id\":6129}}\n"
     ]
    }
   ],
   "source": [
    "# Now, call the Quandl API and pull out a small sample of the data (only one day) to get a glimpse\n",
    "# into the JSON structure that will be returned\n",
    "\n",
    "#Retrieving the data for 16th Apr, 2020, as per the API documentation for the given Data Set.\n",
    "response= requests.get(\"https://www.quandl.com/api/v3/datasets/FSE/AFX_X.json?start_date=2020-04-16&end_date=2020-04-16&api_key=\"+API_KEY)\n",
    "\n",
    "print(response.text)"
   ]
  },
  {
   "cell_type": "code",
   "execution_count": 6,
   "metadata": {},
   "outputs": [
    {
     "name": "stdout",
     "output_type": "stream",
     "text": [
      "{'dataset': {'id': 10095370, 'dataset_code': 'AFX_X', 'database_code': 'FSE', 'name': 'Carl Zeiss Meditec (AFX_X)', 'description': 'Stock Prices for Carl Zeiss Meditec (2020-04-08) from the Frankfurt Stock Exchange.<br><br>Trading System: Xetra<br><br>ISIN: DE0005313704', 'refreshed_at': '2020-04-22T22:16:31.570Z', 'newest_available_date': '2020-04-22', 'oldest_available_date': '2000-06-07', 'column_names': ['Date', 'Open', 'High', 'Low', 'Close', 'Change', 'Traded Volume', 'Turnover', 'Last Price of the Day', 'Daily Traded Units', 'Daily Turnover'], 'frequency': 'daily', 'type': 'Time Series', 'premium': False, 'limit': None, 'transform': None, 'column_index': None, 'start_date': '2020-04-16', 'end_date': '2020-04-16', 'data': [['2020-04-16', 91.9, 92.75, 90.7, 91.45, None, 162831.0, 14907520.55, None, None, None]], 'collapse': None, 'order': None, 'database_id': 6129}}\n"
     ]
    }
   ],
   "source": [
    "# Inspect the JSON structure of the object you created, and take note of how nested it is,\n",
    "# as well as the overall structure\n",
    "\n",
    "#Importing the response data from API, into a formatted JSON\n",
    "test_data= json.loads(response.text)\n",
    "\n",
    "print(test_data)"
   ]
  },
  {
   "cell_type": "markdown",
   "metadata": {},
   "source": [
    "These are your tasks for this mini project:\n",
    "\n",
    "1. Collect data from the Franfurt Stock Exchange, for the ticker AFX_X, for the whole year 2017 (keep in mind that the date format is YYYY-MM-DD).\n",
    "2. Convert the returned JSON object into a Python dictionary.\n",
    "3. Calculate what the highest and lowest opening prices were for the stock in this period.\n",
    "4. What was the largest change in any one day (based on High and Low price)?\n",
    "5. What was the largest change between any two days (based on Closing Price)?\n",
    "6. What was the average daily trading volume during this year?\n",
    "7. (Optional) What was the median trading volume during this year. (Note: you may need to implement your own function for calculating the median.)"
   ]
  },
  {
   "cell_type": "code",
   "execution_count": 7,
   "metadata": {},
   "outputs": [],
   "source": [
    "#Q.1> \n",
    "\n",
    "# Collect data from the Franfurt Stock Exchange,for the ticker AFX_X, for the whole year 2017\n",
    "response_data= requests.get(\"https://www.quandl.com/api/v3/datasets/FSE/AFX_X.json?start_date=2017-01-01&end_date=2017-12-31&api_key=\"+API_KEY)\n"
   ]
  },
  {
   "cell_type": "code",
   "execution_count": 8,
   "metadata": {},
   "outputs": [
    {
     "data": {
      "text/plain": [
       "dict"
      ]
     },
     "execution_count": 8,
     "metadata": {},
     "output_type": "execute_result"
    }
   ],
   "source": [
    "#Q.2> \n",
    "\n",
    "# Convert the returned JSON object into a Python dictionary.\n",
    "json_data= json.loads(response_data.text)\n",
    "\n",
    "#Confirm the loaded Data Type\n",
    "type(json_data)\n"
   ]
  },
  {
   "cell_type": "code",
   "execution_count": 9,
   "metadata": {},
   "outputs": [
    {
     "name": "stdout",
     "output_type": "stream",
     "text": [
      "The highest opening prices for the stocks during the period:  53.11\n",
      "The lowest opening prices for the stocks during the period:  34.0\n"
     ]
    }
   ],
   "source": [
    "#Q.3> \n",
    "\n",
    "#Calculate what the highest and lowest opening prices were for the stock in this period.\n",
    "\n",
    "# Setting the first element as both high & low price.\n",
    "high_price= json_data['dataset']['data'][0][1]\n",
    "low_price= json_data['dataset']['data'][0][1]\n",
    "\n",
    "for entry in json_data['dataset']['data']:\n",
    "    \n",
    "    if(entry[1] is not None):\n",
    "        \n",
    "        if(entry[1] > high_price):\n",
    "            high_price= entry[1]\n",
    "            \n",
    "        if(entry[1] < low_price):\n",
    "            low_price= entry[1]\n",
    "            \n",
    "    else:\n",
    "        continue\n",
    "        \n",
    "print(\"The highest opening prices for the stocks during the period: \", high_price)\n",
    "print(\"The lowest opening prices for the stocks during the period: \", low_price)      "
   ]
  },
  {
   "cell_type": "code",
   "execution_count": 13,
   "metadata": {},
   "outputs": [
    {
     "name": "stdout",
     "output_type": "stream",
     "text": [
      "The Single biggest channge in a day:  2.81\n"
     ]
    }
   ],
   "source": [
    "#Q.4>\n",
    "\n",
    "#Largest change in a day\n",
    "\n",
    "# An empty list to store the difference of high and low prices\n",
    "diff= list()\n",
    "\n",
    "# Here, price[2], price[3] corresponds to the high and low price resp.\n",
    "for price in json_data['dataset']['data']:\n",
    "    if (price[2], price[3] is not None):\n",
    "        diff.append(price[2]-price[3])\n",
    "    else:\n",
    "        continue\n",
    "        \n",
    "print(\"The Single biggest channge in a day: \", round(max(diff),2))"
   ]
  },
  {
   "cell_type": "code",
   "execution_count": 21,
   "metadata": {},
   "outputs": [
    {
     "name": "stdout",
     "output_type": "stream",
     "text": [
      "The largest change between any two days(based on Closing Price): 2.56\n"
     ]
    }
   ],
   "source": [
    "#Q.5>\n",
    "\n",
    "#Largest change between any two days\n",
    "\n",
    "#create an empty list to store the closing prices\n",
    "closing_price= list()\n",
    "\n",
    "for price in json_data['dataset']['data']:\n",
    "    if(price[4] is not None):\n",
    "        closing_price.append(price[4])\n",
    "    else:\n",
    "        continue\n",
    "\n",
    "# Here, We find the difference of the two successive closing prices\n",
    "res= [closing_price[price + 1] - closing_price[price] for price in range(len(closing_price)-1)]\n",
    "\n",
    "print(\"The largest change between any two days(based on Closing Price):\",round(max(res),2))"
   ]
  },
  {
   "cell_type": "code",
   "execution_count": 16,
   "metadata": {},
   "outputs": [
    {
     "name": "stdout",
     "output_type": "stream",
     "text": [
      "The average daily trading volume during the year:  89124.34\n"
     ]
    }
   ],
   "source": [
    "#Q.6>\n",
    "\n",
    "#Average daily trading volume during this year\n",
    "\n",
    "#create an empty list to store trading volume data\n",
    "trading_vol= list()\n",
    "\n",
    "for vol in json_data['dataset']['data']:\n",
    "    if (vol[6] is not None):\n",
    "        trading_vol.append(vol[6])\n",
    "    else:\n",
    "        continue\n",
    "        \n",
    "print(\"The average daily trading volume during the year: \", round(sum(trading_vol)/ len(trading_vol),2))"
   ]
  },
  {
   "cell_type": "code",
   "execution_count": 19,
   "metadata": {},
   "outputs": [
    {
     "name": "stdout",
     "output_type": "stream",
     "text": [
      "Median trading volume during the year: 76286\n"
     ]
    }
   ],
   "source": [
    "#Q.7>\n",
    "\n",
    "#Median trading volume during this year\n",
    "\n",
    "def median_calc(num_list):\n",
    "    ''' Here, num_length stores the total numbers/ elements in the list\n",
    "    For the list containing odd numbered elements, the median is the middle element in the sorted list.\n",
    "    For even number of elements, the median is average of middle two elements in the sorted list.'''\n",
    "    \n",
    "    num_length= len(num_list)\n",
    "    num_list.sort()\n",
    "    \n",
    "    if (num_length % 2 == 0):\n",
    "        num1= num_list[num_length//2]\n",
    "        num2= num_list[num_length//2 - 1]\n",
    "        median= (num1 + num2)/ 2\n",
    "    else:\n",
    "        median= num_list[num_length//2]\n",
    "        \n",
    "    return int(median)\n",
    "\n",
    "print(\"Median trading volume during the year:\", median_calc(trading_vol))"
   ]
  }
 ],
 "metadata": {
  "kernelspec": {
   "display_name": "Python 3",
   "language": "python",
   "name": "python3"
  },
  "language_info": {
   "codemirror_mode": {
    "name": "ipython",
    "version": 3
   },
   "file_extension": ".py",
   "mimetype": "text/x-python",
   "name": "python",
   "nbconvert_exporter": "python",
   "pygments_lexer": "ipython3",
   "version": "3.7.3"
  }
 },
 "nbformat": 4,
 "nbformat_minor": 2
}
